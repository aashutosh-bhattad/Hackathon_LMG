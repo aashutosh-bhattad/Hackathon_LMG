{
 "cells": [
  {
   "cell_type": "markdown",
   "metadata": {},
   "source": [
    "# Environment >>>"
   ]
  },
  {
   "cell_type": "code",
   "execution_count": 2,
   "metadata": {},
   "outputs": [],
   "source": [
    "import numpy as np\n",
    "import matplotlib.pyplot as plt\n",
    "import pandas as pd\n",
    "import seaborn as sns\n",
    "from sklearn import svm, tree, linear_model, neighbors, naive_bayes, ensemble , model_selection\n",
    "from sklearn.preprocessing import OneHotEncoder, LabelEncoder \n",
    "from sklearn.model_selection import cross_val_score ,RandomizedSearchCV ,train_test_split , GridSearchCV\n",
    "from pprint import pprint\n",
    "from sklearn.metrics import confusion_matrix, classification_report\n",
    "from sklearn.neighbors import KNeighborsClassifier\n",
    "from sklearn.ensemble import BaggingClassifier,RandomForestClassifier"
   ]
  },
  {
   "cell_type": "markdown",
   "metadata": {},
   "source": [
    "# Merge >>>"
   ]
  },
  {
   "cell_type": "code",
   "execution_count": 3,
   "metadata": {},
   "outputs": [],
   "source": [
    "customers = pd.read_csv('customer_demographics.csv')\n",
    "transactions = pd.read_csv('transactions.csv')\n",
    "stores = pd.read_csv('stores.csv')"
   ]
  },
  {
   "cell_type": "code",
   "execution_count": 4,
   "metadata": {},
   "outputs": [],
   "source": [
    "b = pd.merge(transactions,customers,left_on= 'Customer_ID', right_on='Customer_ID')\n",
    "c = pd.merge(b,stores, left_on= 'Store_Code',right_on='Store_Code' )\n",
    "c.to_csv('c.csv')"
   ]
  },
  {
   "cell_type": "markdown",
   "metadata": {},
   "source": [
    "# Pre-Processing >>>"
   ]
  },
  {
   "cell_type": "code",
   "execution_count": 3,
   "metadata": {},
   "outputs": [],
   "source": [
    "data = pd.read_csv('c.csv')"
   ]
  },
  {
   "cell_type": "code",
   "execution_count": 4,
   "metadata": {},
   "outputs": [
    {
     "name": "stdout",
     "output_type": "stream",
     "text": [
      "Index(['Unnamed: 0', 'Unnamed: 0_x', 'Year', 'Week', 'Store_Code',\n",
      "       'Transaction_Type', 'Return_Reason', 'Customer_ID', 'Invoices',\n",
      "       'Item_Count', 'Revenue', 'Discount', 'Units_Sold', 'Unnamed: 0_y',\n",
      "       'Nationality', 'Income_Range', 'Job_Type', 'Marital_Status', 'Gender',\n",
      "       'State', 'Language', 'Loyalty_Status', 'Points', 'Birth_year',\n",
      "       'Birth_week', 'First_txn_year', 'First_txn_week', 'Last_accr_txn_year',\n",
      "       'Last_accr_txn_week', 'Customer_span', 'Unnamed: 0.1', 'Region_Code',\n",
      "       'Store_Format', 'Sales_Per_Day', 'Store_Size_Sq_Ft', 'Customer_Count',\n",
      "       'Total_Revenue', 'Store_Launch_Year', 'Store_Launch_Week'],\n",
      "      dtype='object')\n"
     ]
    }
   ],
   "source": [
    "print(data.columns)\n",
    "data.drop(['Unnamed: 0_x','Unnamed: 0_y','Unnamed: 0'], inplace=True,axis=1)"
   ]
  },
  {
   "cell_type": "code",
   "execution_count": null,
   "metadata": {},
   "outputs": [],
   "source": [
    "data.head(5).T"
   ]
  },
  {
   "cell_type": "code",
   "execution_count": null,
   "metadata": {},
   "outputs": [],
   "source": [
    "data.Nationality.value_counts()"
   ]
  },
  {
   "cell_type": "code",
   "execution_count": null,
   "metadata": {},
   "outputs": [],
   "source": [
    "# if c.Nationality.name in ['INDIA','UNITED ARAB EMIRATES ','PHILIPPINES', 'EGYPT','PAKISTAN','JORDAN',\n",
    "#                      'SYRIAN ARAB REPUBLIC','Unspecified','OCCUPIED PALESTINIAN TERRITORY',\n",
    "#                      'SUDAN','UNDEFINED','MOROCCO','SRI LANKA','IRAQ','LEBANON',\n",
    "#                      'UNDISCLOSED ARAB NATIONAL','ISLAMIC REPUBLIC OF IRAN','BANGLADESH',\n",
    "#                      'TUNISIA','OMAN','NEPAL']:\n",
    "#     print('ok')\n",
    "# else:\n",
    "#     c.Nationality = 'Unspecified'"
   ]
  },
  {
   "cell_type": "code",
   "execution_count": 5,
   "metadata": {},
   "outputs": [
    {
     "ename": "ValueError",
     "evalue": "The truth value of a Series is ambiguous. Use a.empty, a.bool(), a.item(), a.any() or a.all().",
     "output_type": "error",
     "traceback": [
      "\u001b[0;31m---------------------------------------------------------------------------\u001b[0m",
      "\u001b[0;31mValueError\u001b[0m                                Traceback (most recent call last)",
      "\u001b[0;32m<ipython-input-5-4dab7ab989c4>\u001b[0m in \u001b[0;36m<module>\u001b[0;34m\u001b[0m\n\u001b[0;32m----> 1\u001b[0;31m \u001b[0;32mif\u001b[0m \u001b[0mdata\u001b[0m\u001b[0;34m.\u001b[0m\u001b[0mNationality\u001b[0m \u001b[0;34m==\u001b[0m \u001b[0;34m'INDIA'\u001b[0m\u001b[0;34m:\u001b[0m\u001b[0;34m\u001b[0m\u001b[0;34m\u001b[0m\u001b[0m\n\u001b[0m\u001b[1;32m      2\u001b[0m     \u001b[0mdata\u001b[0m\u001b[0;34m.\u001b[0m\u001b[0mNationality\u001b[0m \u001b[0;34m==\u001b[0m \u001b[0;34m'Unspe'\u001b[0m\u001b[0;34m\u001b[0m\u001b[0;34m\u001b[0m\u001b[0m\n",
      "\u001b[0;32m~/anaconda3/lib/python3.6/site-packages/pandas/core/generic.py\u001b[0m in \u001b[0;36m__nonzero__\u001b[0;34m(self)\u001b[0m\n\u001b[1;32m   1574\u001b[0m         raise ValueError(\"The truth value of a {0} is ambiguous. \"\n\u001b[1;32m   1575\u001b[0m                          \u001b[0;34m\"Use a.empty, a.bool(), a.item(), a.any() or a.all().\"\u001b[0m\u001b[0;34m\u001b[0m\u001b[0;34m\u001b[0m\u001b[0m\n\u001b[0;32m-> 1576\u001b[0;31m                          .format(self.__class__.__name__))\n\u001b[0m\u001b[1;32m   1577\u001b[0m \u001b[0;34m\u001b[0m\u001b[0m\n\u001b[1;32m   1578\u001b[0m     \u001b[0m__bool__\u001b[0m \u001b[0;34m=\u001b[0m \u001b[0m__nonzero__\u001b[0m\u001b[0;34m\u001b[0m\u001b[0;34m\u001b[0m\u001b[0m\n",
      "\u001b[0;31mValueError\u001b[0m: The truth value of a Series is ambiguous. Use a.empty, a.bool(), a.item(), a.any() or a.all()."
     ]
    }
   ],
   "source": [
    "if data.Nationality == 'INDIA':\n",
    "    data.Nationality == 'Unspe'"
   ]
  }
 ],
 "metadata": {
  "kernelspec": {
   "display_name": "Python 3",
   "language": "python",
   "name": "python3"
  },
  "language_info": {
   "codemirror_mode": {
    "name": "ipython",
    "version": 3
   },
   "file_extension": ".py",
   "mimetype": "text/x-python",
   "name": "python",
   "nbconvert_exporter": "python",
   "pygments_lexer": "ipython3",
   "version": "3.6.7"
  }
 },
 "nbformat": 4,
 "nbformat_minor": 2
}
